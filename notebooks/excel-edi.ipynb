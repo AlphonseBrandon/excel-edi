{
 "cells": [
  {
   "cell_type": "markdown",
   "metadata": {},
   "source": [
    "# Excel - EDI"
   ]
  },
  {
   "cell_type": "code",
   "execution_count": 2,
   "metadata": {},
   "outputs": [
    {
     "name": "stdout",
     "output_type": "stream",
     "text": [
      "EDI 834 file created successfully!\n"
     ]
    }
   ],
   "source": [
    "import pandas as pd\n",
    "import pyx12\n",
    "\n",
    "# Load Excel data (assuming you have an 'enrollment.xlsx' file)\n",
    "excel_file = '../data/excel/enrollment.xlsx'\n",
    "df = pd.read_excel(excel_file)\n",
    "\n",
    "# Create an EDI 834 segment\n",
    "def create_edi_segment(member_id, first_name, last_name, dob, gender, email, start_date, coverage_type):\n",
    "    return f\"NM1*IL*1*{last_name}*{first_name}***34*{member_id}~\"\n",
    "\n",
    "# Generate EDI content\n",
    "edi_content = []\n",
    "for _, row in df.iterrows():\n",
    "    edi_segment = create_edi_segment(\n",
    "        row['Member ID'], row['First Name'], row['Last Name'],\n",
    "        row['Date of Birth'], row['Gender'], row['Email Address'],\n",
    "        row['Plan Start Date'], row['Coverage Type']\n",
    "    )\n",
    "    edi_content.append(edi_segment)\n",
    "\n",
    "# Create the EDI file\n",
    "edi_file = '\\n'.join(edi_content)\n",
    "with open('../data/edi/enrollment_834.txt', 'w') as f:\n",
    "    f.write(edi_file)\n",
    "\n",
    "print(\"EDI 834 file created successfully!\")\n",
    "\n",
    "# You can now send 'enrollment_834.edi' to the relevant system.\n"
   ]
  }
 ],
 "metadata": {
  "kernelspec": {
   "display_name": ".venv",
   "language": "python",
   "name": "python3"
  },
  "language_info": {
   "codemirror_mode": {
    "name": "ipython",
    "version": 3
   },
   "file_extension": ".py",
   "mimetype": "text/x-python",
   "name": "python",
   "nbconvert_exporter": "python",
   "pygments_lexer": "ipython3",
   "version": "3.10.12"
  }
 },
 "nbformat": 4,
 "nbformat_minor": 2
}
