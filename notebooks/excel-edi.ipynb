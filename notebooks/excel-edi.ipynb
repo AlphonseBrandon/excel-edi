{
 "cells": [
  {
   "cell_type": "markdown",
   "metadata": {},
   "source": [
    "# Excel - EDI"
   ]
  },
  {
   "cell_type": "code",
   "execution_count": null,
   "metadata": {},
   "outputs": [],
   "source": [
    "import pandas as pd\n",
    "\n",
    "# Define the path to the Excel file\n",
    "excel_file = 'patient_data.xlsx'\n",
    "\n",
    "# Load the Excel file into a DataFrame\n",
    "df = pd.read_excel(excel_file)\n",
    "\n",
    "# Iterate over the rows in the DataFrame\n",
    "for index, row in df.iterrows():\n",
    "    # Create a new EDI 834 transaction file for each patient\n",
    "    with open(f'834_{index}.X12', 'w') as f:\n",
    "        # Write the ISA segment\n",
    "        f.write('ISA*00*          *00*          *ZZ*SENDERID       *ZZ*RECEIVERID     *030101*1253*U*00401*000000001*0*P*>\\n')\n",
    "        \n",
    "        # Write the GS segment\n",
    "        f.write('GS*BE*SENDERCODE*RECEIVERCODE*19991231*0802*1*X*004010X095A1\\n')\n",
    "        \n",
    "        # Write the ST segment\n",
    "        f.write('ST*834*0001\\n')\n",
    "        \n",
    "        # Write the BGN segment\n",
    "        f.write('BGN*00*ReferenceIdentification*19991231*Time*TimeZoneCode**2\\n')\n",
    "        \n",
    "        # Write the REF segment\n",
    "        f.write('REF*38*ApplicationReceiverCode\\n')\n",
    "        \n",
    "        # Write the N1 segment\n",
    "        f.write('N1*P5*PlanSponsorName*FI*PlanSponsorTaxId\\n')\n",
    "        \n",
    "        # Write the INS segment\n",
    "        f.write(f'INS*{row[\"RelationshipCode\"]}*{row[\"MemberActionCode\"]}**{row[\"MaintenanceTypeCode\"]}**{row[\"MaintenanceReasonCode\"]}**{row[\"BenefitStatusCode\"]}**{row[\"MedicareStatusCode\"]}**{row[\"COBRACode\"]}**{row[\"EmploymentStatusCode\"]}**{row[\"StudentStatusCode\"]}**{row[\"HandicapIndicator\"]}**{row[\"DateOfBirth\"]}\\n')\n",
    "        \n",
    "        # Write the REF segment\n",
    "        f.write(f'REF*0F*{row[\"MemberPolicyNumber\"]}\\n')\n",
    "        \n",
    "        # Write the DTP segment\n",
    "        f.write(f'DTP*336*D8*{row[\"CoverageStartDate\"]}\\n')\n",
    "        \n",
    "        # Write the NM1 segment\n",
    "        f.write(f'NM1*IL*1*{row[\"LastName\"]}*{row[\"FirstName\"]}**{row[\"MiddleName\"]}**{row[\"NamePrefix\"]}**{row[\"NameSuffix\"]}\\n')\n",
    "        \n",
    "        # Write the N3 segment\n",
    "        f.write(f'N3*{row[\"AddressLine1\"]}*{row[\"AddressLine2\"]}\\n')\n",
    "        \n",
    "        # Write the N4 segment\n",
    "        f.write(f'N4*{row[\"City\"]}*{row[\"State\"]}*{row[\"PostalCode\"]}*{row[\"CountryCode\"]}\\n')\n",
    "        \n",
    "        # Write the DMG segment\n",
    "        f.write(f'DMG*D8*{row[\"DateOfBirth\"]}*{row[\"GenderCode\"]}**{row[\"MaritalStatusCode\"]}**{row[\"RaceOrEthnicityCode\"]}**{row[\"CitizenshipStatusCode\"]}**{row[\"CountryCode\"]}\\n')\n",
    "        \n",
    "        # Write the HD segment\n",
    "        f.write(f'HD**{row[\"InsuranceLineCode\"]}**{row[\"PlanCoverageDescription\"]}\\n')\n",
    "        \n",
    "        # Write the DTP segment\n",
    "        f.write(f'DTP*348*D8*{row[\"CoverageStartDate\"]}\\n')\n",
    "        \n",
    "        # Write the SE segment\n",
    "        f.write('SE*22*0001\\n')\n",
    "        \n",
    "        # Write the GE segment\n",
    "        f.write('GE*1*1\\n')\n",
    "        \n",
    "        # Write the IEA segment\n",
    "        f.write('IEA*1*000000001\\n')\n",
    "\n",
    "# Print a success message\n",
    "print(\"EDI 834 transaction files were successfully generated for each patient.\")\n"
   ]
  }
 ],
 "metadata": {
  "kernelspec": {
   "display_name": ".venv",
   "language": "python",
   "name": "python3"
  },
  "language_info": {
   "codemirror_mode": {
    "name": "ipython",
    "version": 3
   },
   "file_extension": ".py",
   "mimetype": "text/x-python",
   "name": "python",
   "nbconvert_exporter": "python",
   "pygments_lexer": "ipython3",
   "version": "3.10.12"
  }
 },
 "nbformat": 4,
 "nbformat_minor": 2
}
